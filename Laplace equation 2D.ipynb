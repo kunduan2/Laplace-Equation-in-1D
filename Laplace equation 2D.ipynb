{
 "cells": [
  {
   "cell_type": "code",
   "execution_count": 6,
   "id": "d37d2c44",
   "metadata": {},
   "outputs": [
    {
     "data": {
      "text/html": [
       "\n",
       "        <iframe\n",
       "            width=\"800\"\n",
       "            height=\"600\"\n",
       "            src=\"laplace_2D.pdf\"\n",
       "            frameborder=\"0\"\n",
       "            allowfullscreen\n",
       "            \n",
       "        ></iframe>\n",
       "        "
      ],
      "text/plain": [
       "<IPython.lib.display.IFrame at 0x7f8c3069c550>"
      ]
     },
     "metadata": {},
     "output_type": "display_data"
    }
   ],
   "source": [
    "from IPython.display import display, IFrame\n",
    "\n",
    "# Replace 'yourfile.pdf' with the path to your PDF file\n",
    "file_path = 'laplace_2D.pdf'\n",
    "\n",
    "# Display the PDF\n",
    "display(IFrame(file_path, width=800, height=600))"
   ]
  },
  {
   "cell_type": "code",
   "execution_count": 13,
   "id": "9c90fcde",
   "metadata": {},
   "outputs": [
    {
     "name": "stdout",
     "output_type": "stream",
     "text": [
      "Converged in 842 iterations.\n"
     ]
    },
    {
     "data": {
      "image/png": "[encoded data removed]",
      "text/plain": [
       "<Figure size 432x288 with 2 Axes>"
      ]
     },
     "metadata": {
      "needs_background": "light"
     },
     "output_type": "display_data"
    }
   ],
   "source": [
    "import numpy as np\n",
    "import matplotlib.pyplot as plt\n",
    "\n",
    "# Parameters\n",
    "Lx, Ly = 1.0, 1.0   # Length of the domain in x and y\n",
    "Nx, Ny = 20, 20     # Number of grid points in x and y\n",
    "dx, dy = Lx / (Nx - 1), Ly / (Ny - 1)  # Grid spacing\n",
    "\n",
    "# Grid\n",
    "x = np.linspace(0, Lx, Nx)\n",
    "y = np.linspace(0, Ly, Ny)\n",
    "X, Y = np.meshgrid(x, y)\n",
    "\n",
    "# Boundary conditions\n",
    "phi = np.zeros((Nx, Ny))\n",
    "phi[:, 0] = 0    # phi at y = 0\n",
    "phi[:, -1] = 1   # phi at y = Ly\n",
    "phi[0, :] = 0    # phi at x = 0\n",
    "phi[-1, :] = 1   # phi at x = Lx\n",
    "\n",
    "# Function to perform the Jacobi iteration\n",
    "def jacobi(phi, tol=1e-6, max_iterations=10000):\n",
    "    for iteration in range(max_iterations):\n",
    "        phi_new = phi.copy()\n",
    "        for i in range(1, Nx-1):\n",
    "            for j in range(1, Ny-1):\n",
    "                phi_new[i, j] = 0.25 * (phi[i+1, j] + phi[i-1, j] + phi[i, j+1] + phi[i, j-1])\n",
    "        \n",
    "        # Check for convergence\n",
    "        if np.linalg.norm(phi_new - phi) < tol:\n",
    "            print(f\"Converged in {iteration} iterations.\")\n",
    "            breaka\n",
    "        \n",
    "        phi = phi_new\n",
    "    \n",
    "    return phi\n",
    "\n",
    "# Solve the Laplace equation\n",
    "phi = jacobi(phi)\n",
    "\n",
    "# Plot the solution\n",
    "plt.contourf(X, Y, phi, 20, cmap='viridis')\n",
    "plt.colorbar(label='Potential')\n",
    "plt.xlabel('x')\n",
    "plt.ylabel('y')\n",
    "plt.title('Solution of the 2D Laplace Equation')\n",
    "plt.show()\n"
   ]
  },
  {
   "cell_type": "code",
   "execution_count": null,
   "id": "bf0ed758",
   "metadata": {},
   "outputs": [],
   "source": []
  }
 ],
 "metadata": {
  "kernelspec": {
   "display_name": "Python 3 (ipykernel)",
   "language": "python",
   "name": "python3"
  },
  "language_info": {
   "codemirror_mode": {
    "name": "ipython",
    "version": 3
   },
   "file_extension": ".py",
   "mimetype": "text/x-python",
   "name": "python",
   "nbconvert_exporter": "python",
   "pygments_lexer": "ipython3",
   "version": "3.8.8"
  }
 },
 "nbformat": 4,
 "nbformat_minor": 5
}
