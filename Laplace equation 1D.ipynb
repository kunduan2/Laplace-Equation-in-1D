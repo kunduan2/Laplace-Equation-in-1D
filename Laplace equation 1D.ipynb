{
 "cells": [
  {
   "cell_type": "code",
   "execution_count": 3,
   "id": "7629ebeb",
   "metadata": {},
   "outputs": [],
   "source": [
    "# import all the libraries\n",
    "import numpy as np\n",
    "import matplotlib.pyplot as plt\n",
    "import matplotlib.animation as animation\n",
    "from matplotlib.animation import FuncAnimation"
   ]
  },
  {
   "cell_type": "code",
   "execution_count": 7,
   "id": "451b8693",
   "metadata": {},
   "outputs": [
    {
     "name": "stdout",
     "output_type": "stream",
     "text": [
      "[[-2.  1.  0.  0.  0.  0.  0.  0.  0.  0.]\n",
      " [ 1. -2.  1.  0.  0.  0.  0.  0.  0.  0.]\n",
      " [ 0.  1. -2.  1.  0.  0.  0.  0.  0.  0.]\n",
      " [ 0.  0.  1. -2.  1.  0.  0.  0.  0.  0.]\n",
      " [ 0.  0.  0.  1. -2.  1.  0.  0.  0.  0.]\n",
      " [ 0.  0.  0.  0.  1. -2.  1.  0.  0.  0.]\n",
      " [ 0.  0.  0.  0.  0.  1. -2.  1.  0.  0.]\n",
      " [ 0.  0.  0.  0.  0.  0.  1. -2.  1.  0.]\n",
      " [ 0.  0.  0.  0.  0.  0.  0.  1. -2.  1.]\n",
      " [ 0.  0.  0.  0.  0.  0.  0.  0.  1. -2.]]\n"
     ]
    },
    {
     "data": {
      "image/png": "[encoded data removed]",
      "text/plain": [
       "<Figure size 432x288 with 1 Axes>"
      ]
     },
     "metadata": {
      "needs_background": "light"
     },
     "output_type": "display_data"
    }
   ],
   "source": [
    "# Parameters\n",
    "L = 1.0  # length of the domain\n",
    "N = 10   # number of discretization points\n",
    "dx = L / (N + 1)  # step size\n",
    "\n",
    "# Create the matrix A\n",
    "A = np.zeros((N, N))\n",
    "\n",
    "for i in range(N):\n",
    "    if i > 0:\n",
    "        A[i, i-1] = 1\n",
    "    A[i, i] = -2\n",
    "    if i < N-1:\n",
    "        A[i, i+1] = 1\n",
    "print(A)\n",
    "# Boundary conditions\n",
    "phi_0 = 1\n",
    "phi_L = 2\n",
    "\n",
    "# Right-hand side vector\n",
    "b = np.zeros(N)\n",
    "b[0] = -phi_0\n",
    "b[-1] = -phi_L\n",
    "\n",
    "# Solve the system\n",
    "phi = np.linalg.solve(A, b)\n",
    "\n",
    "# Add boundary conditions to the solution\n",
    "phi = np.concatenate(([phi_0], phi, [phi_L]))\n",
    "\n",
    "# Discretized x-axis\n",
    "x = np.linspace(0, L, N + 2)\n",
    "\n",
    "# Plot the solution\n",
    "plt.plot(x, phi, '-o')\n",
    "plt.xlabel('x')\n",
    "plt.ylabel('phi')\n",
    "plt.title('Solution of 1D Laplace Equation')\n",
    "plt.grid(True)\n",
    "plt.show()\n"
   ]
  }
 ],
 "metadata": {
  "kernelspec": {
   "display_name": "Python 3 (ipykernel)",
   "language": "python",
   "name": "python3"
  },
  "language_info": {
   "codemirror_mode": {
    "name": "ipython",
    "version": 3
   },
   "file_extension": ".py",
   "mimetype": "text/x-python",
   "name": "python",
   "nbconvert_exporter": "python",
   "pygments_lexer": "ipython3",
   "version": "3.8.8"
  }
 },
 "nbformat": 4,
 "nbformat_minor": 5
}
